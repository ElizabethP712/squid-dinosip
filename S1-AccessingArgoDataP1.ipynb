{
 "cells": [
  {
   "cell_type": "markdown",
   "id": "8d94d507-c583-41e9-ab80-49792e9a7fd1",
   "metadata": {},
   "source": [
    "# Accessing & Indexing Argo Data"
   ]
  },
  {
   "cell_type": "code",
   "execution_count": 1,
   "id": "7ac3d5e2-30bb-4d9d-b417-e8445165b208",
   "metadata": {},
   "outputs": [],
   "source": [
    "#All the imports I utalized to allow any code to run across any of my notebooks\n",
    "import xarray as xr\n",
    "xr.set_options(display_style=\"html\", display_expand_attrs=False);\n",
    "from matplotlib import pyplot as plt\n",
    "plt.style.use('default')\n",
    "import cartopy\n",
    "import cartopy.crs as ccrs\n",
    "import argopy\n",
    "import numpy as np\n",
    "import os, shutil\n",
    "import pandas as pd\n",
    "from pathlib import Path\n",
    "import seawater as sw"
   ]
  },
  {
   "cell_type": "markdown",
   "id": "9aedde47-67e2-433f-9baa-d2c8981690d1",
   "metadata": {},
   "source": [
    "## Accessing Argo Data"
   ]
  },
  {
   "cell_type": "markdown",
   "id": "72b60cbb-0ac0-467e-8891-914773114d9c",
   "metadata": {},
   "source": [
    "### Option 1 - Using ArgoDataFetcher (good for graphs)"
   ]
  },
  {
   "cell_type": "markdown",
   "id": "863dc33d-2090-47c8-abf5-2d356a6bbdb1",
   "metadata": {},
   "source": [
    "This method will allow you to visual and sort through Argo float data that fits a certain criteria. I did find that there are issues of inconsistency if you want to sort through all the Argo floats, active and inactive though. Most of the time it gives you all active floats, but excludes inactive, and sometimes you will get different errors that are fixed with running the cell individually, so for determining what Argo floats match your parameters this isn't the best method. But I would recommend using this strategy for graphs after determining matching Argo floats from ArgoIndexFetcher!"
   ]
  },
  {
   "cell_type": "code",
   "execution_count": 2,
   "id": "16399ba8-efbc-426f-95d8-f73eba46a615",
   "metadata": {
    "scrolled": true
   },
   "outputs": [
    {
     "data": {
      "text/plain": [
       "<datafetcher.erddap> 'No access point initialised'\n",
       "Available access points: float, profile, region\n",
       "Performances: cache=False, parallel=True\n",
       "User mode: standard\n",
       "Dataset: phy"
      ]
     },
     "execution_count": 2,
     "metadata": {},
     "output_type": "execute_result"
    }
   ],
   "source": [
    "#Make sure to import the DataFetcher itself, and then define argo_loader; I normally add this to the beginning of my notebooks with imports\n",
    "from argopy import DataFetcher as ArgoDataFetcher\n",
    "argo_loader = ArgoDataFetcher(src='erddap', parallel=True) #Chose between 'argovis' and 'erddap' for your data sourcing!\n",
    "argo_loader"
   ]
  },
  {
   "cell_type": "markdown",
   "id": "b2147329-aec1-4d78-8f19-6bda949a1db0",
   "metadata": {},
   "source": [
    "The other big thing to consider is your source of data. I mainly used src='erddap' for my data because it was in a more raw form of the data from Argo floats and didn't have as many automatic restrictions like q1 quality control, plus I have run into the least amount of errors with it. But src='argovis' could work just as well depending on your purposes, especially if errdap crashes. Another potential source, specifically for ArgoIndexFetcher (considering argovis does not work with IndexFetcher) is also 'gdac' which I included in this notebook only because errdap was recieving maintainence at the time of upload."
   ]
  },
  {
   "cell_type": "markdown",
   "id": "2204adde-30ab-4d3d-b6db-05769be677af",
   "metadata": {},
   "source": [
    "#### You can ask for Argo floats that are limited by the following conditions: \n",
    "- Latitude, Longitude, Depth\n",
    "- Time, but would not recommend as there are issues with that variable\n",
    "- Float WMO ID Number"
   ]
  },
  {
   "cell_type": "code",
   "execution_count": null,
   "id": "0a398e7f-5007-4471-9436-122622a88fba",
   "metadata": {},
   "outputs": [],
   "source": [
    "#Limiting Argo Floats by Latitude, Longitude, Depth\n",
    "argo1 = argo_loader.region([-147, -138, 24, 36, 0, 10000]).load().data #(max longitude, min longitude, min latitude, max latitude, min depth, max depth)\n",
    "argo1 #This is to visualize the information you found in a table format!"
   ]
  },
  {
   "cell_type": "code",
   "execution_count": null,
   "id": "238318de-f8a5-4d5e-a075-3b5d65378e78",
   "metadata": {},
   "outputs": [],
   "source": [
    "#Limited Argo Floats by Float WMO ID Number\n",
    "argo2 = argo_loader.float(5903385).load().data #You can also create a list of floats by replacing 5903385 with [5903385, 5903385]\n",
    "argo2"
   ]
  },
  {
   "cell_type": "code",
   "execution_count": null,
   "id": "339395be-af27-4215-a1ca-f419e3f1a2e9",
   "metadata": {},
   "outputs": [],
   "source": [
    "#Limited Argo Floats by Time in addition to Latitude, Longitude, and Depth\n",
    "argo3 = argo_loader.region([-75, -45, 20, 30, 0, 10, '1999-01', '2023-08']).load().data #(max longitude, min longitude, min latitude, max latitude, min depth, max depth, max time, min time), time is in year, month, day.\n",
    "argo3"
   ]
  },
  {
   "cell_type": "markdown",
   "id": "091937c6-4452-4ebe-bc95-3ab5bb8d6e78",
   "metadata": {},
   "source": [
    "#### This method of accessing Argo data has some built in functions and graphs you can utalize and build off too."
   ]
  },
  {
   "cell_type": "markdown",
   "id": "4fae650d-e3e5-41c7-b667-de6c5ac50524",
   "metadata": {},
   "source": [
    "Different Graphs that I explored during this project will each get their own notebook, but here is the overall list for your convienence:\n",
    "\n",
    "- Built-In Trajectory Graphs on a World Map\n",
    "- Trajectory Graphs Mapped Against Topographical Map\n",
    "- Trajectory Graphs color-coded by year launched for each profile!\n",
    "- CTD graphs w/ Temperature and Salinity Mapped Against Depth\n",
    "- T/S Diagrams w/ density color bars calculated from seawater Python package"
   ]
  },
  {
   "cell_type": "markdown",
   "id": "5e4ee562-03cc-482f-9dad-84a498fc30ae",
   "metadata": {},
   "source": [
    "#### Failed Attempt at Indexing"
   ]
  },
  {
   "cell_type": "markdown",
   "id": "5bee4ebb-77d0-4497-9156-f26febb9741f",
   "metadata": {},
   "source": [
    "At first I tried to sort through Argo data that fit the following restrictions of EM-APEX's overall bounding box, and then list the floats satisfying those conditions using the world map trajectory graph like the following:"
   ]
  },
  {
   "cell_type": "markdown",
   "id": "72380892-127c-4ae1-b900-89bd5e07083d",
   "metadata": {},
   "source": [
    "EM-APEX Conditions - Overall Bounding Box:\n",
    "- lon max, lon min, lat min, lat max, depth min, depth max\n",
    "- -146.321753, -139.39713, 25.633673, 35.469333, 0, 10000"
   ]
  },
  {
   "cell_type": "code",
   "execution_count": null,
   "id": "2c45a115-1cfa-40a9-ac6a-ef5b3102e1fc",
   "metadata": {
    "scrolled": true
   },
   "outputs": [],
   "source": [
    "argo1 = argo_loader.region([-146.321753, -139.39713, 25.633673, 35.469333, 0, 10000]).load().data #(max longitude, min longitude, min latitude, max latitude, min depth, max depth)\n",
    "#argo1.plot('trajectory', set_global=True) #This is to visualize the information you found in a table format!\n",
    "argo1.plot('trajectory', set_global=True)"
   ]
  },
  {
   "cell_type": "markdown",
   "id": "706e9939-d17e-45ac-acf4-ba7055f4c9a6",
   "metadata": {},
   "source": [
    "However, this process for the EM-APEX SMILE, NISKINE, and DIMES experiments was time consuming and unreliable, and so I used the IndexFetcher instead!"
   ]
  },
  {
   "cell_type": "markdown",
   "id": "e6306588-86dd-4c50-816f-dbfcdfe49f15",
   "metadata": {},
   "source": [
    "### Option 2 - Using ArgoIndexFetcher"
   ]
  },
  {
   "cell_type": "markdown",
   "id": "a74c16d0-4dfb-4968-8878-09730613d566",
   "metadata": {},
   "source": [
    "This method will allow you to visual and sort through Argo float data that fits a certain criteria, but without the issues the DataIndexFetcher was running into. Since I was focusing on the EM-APEX SMILE Experiment, I chose to have four bounding boxes to investigate in and outside of the year 2017!\n",
    "\n",
    "Bounding Boxes: (lat min, lat max, lon min, lon max)\n",
    "- Overall = 25.633673, 35.469333, -146.321753, -139.39713\n",
    "- Region #1 = 25.5, 28.0, -146.322, -145\n",
    "- Region #2 = 28.0, 30.6, -146.322, -145\n",
    "- Region #3 = 34.0, 35.469333, -140.5, -139.39713"
   ]
  },
  {
   "cell_type": "markdown",
   "id": "aaa36ec6-213d-4c6a-b3a5-c3029f4eacb2",
   "metadata": {},
   "source": [
    "#### First Import the IndexFetcher!"
   ]
  },
  {
   "cell_type": "code",
   "execution_count": null,
   "id": "324a46fe-83d6-439f-914d-971cf9713fe7",
   "metadata": {},
   "outputs": [],
   "source": [
    "from argopy import IndexFetcher as ArgoIndexFetcher"
   ]
  },
  {
   "cell_type": "markdown",
   "id": "3c14e5a3-3070-40ba-a418-cd3e09b74afd",
   "metadata": {},
   "source": [
    "#### Then do the Indexing!"
   ]
  },
  {
   "cell_type": "code",
   "execution_count": null,
   "id": "3cc7d436-d6b0-4e76-aa81-fc74f0387989",
   "metadata": {},
   "outputs": [],
   "source": [
    "#Overall Region - Argo floats that intersect EM-APEX SMILE experiment across all time\n",
    "idx1 = ArgoIndexFetcher(src='erddap').region([-146.321753, -139.39713, 25.633673, 35.469333, '1999-01-01', '2023-01-01']).load()\n",
    "idx1.index"
   ]
  },
  {
   "cell_type": "code",
   "execution_count": null,
   "id": "6f86f6d3-7637-400b-a928-95e28a33d706",
   "metadata": {},
   "outputs": [],
   "source": [
    "#This code tells you what floats agree with the limited parameters!\n",
    "SMILE_floats_D1 = idx1.index.wmo #indexes into the column, wmo or float ID's\n",
    "SMILE_floats_ND1 = SMILE_floats_D1.drop_duplicates() #gets rid of duplicates\n",
    "SMILE_floats_ND1 #Tells you what these floats are"
   ]
  },
  {
   "cell_type": "code",
   "execution_count": null,
   "id": "efcf5094-2902-47da-a12b-2e0d7290828c",
   "metadata": {},
   "outputs": [],
   "source": [
    "len(SMILE_floats_ND1) #Tells you how many floats matched!"
   ]
  },
  {
   "cell_type": "code",
   "execution_count": null,
   "id": "567d68ba-0942-4cfc-aec6-dad65a7fba69",
   "metadata": {},
   "outputs": [],
   "source": [
    "#Overall Region - Argo floats that intersect EM-APEX SMILE experiment across 2017!\n",
    "idx2 = ArgoIndexFetcher(src='erddap').region([-146.321753, -139.39713, 25.633673, 35.469333, '2017-01-01', '2017-12-31']).load()\n",
    "idx2.index"
   ]
  },
  {
   "cell_type": "code",
   "execution_count": null,
   "id": "c2a8de35-93ca-48fb-a9c0-b4d371554d02",
   "metadata": {},
   "outputs": [],
   "source": [
    "SMILE_floats_D2 = idx2.index.wmo #indexes into the column, wmo or float ID's\n",
    "SMILE_floats_ND2 = SMILE_floats_D2.drop_duplicates() #gets rid of duplicates\n",
    "SMILE_floats_ND2 #Tells you what these floats are\n",
    "len(SMILE_floats_ND2) #Tells you how many floats matched!"
   ]
  },
  {
   "cell_type": "code",
   "execution_count": null,
   "id": "82b5282f-f29e-45d2-866a-1f0ea8f4d527",
   "metadata": {},
   "outputs": [],
   "source": [
    "#Region 1 - Argo floats that intersect EM-APEX SMILE experiment across all time & limited time\n",
    "idx3 = ArgoIndexFetcher(src='erddap').region([-146.322, -145, 25.5, 28.0, '1999-01-01', '2023-01-01']).load()\n",
    "idx4 = ArgoIndexFetcher(src='erddap').region([-146.322, -145, 25.5, 28.0, '2017-01-01', '2017-12-31']).load() #MOST INTERESTING"
   ]
  },
  {
   "cell_type": "code",
   "execution_count": null,
   "id": "0d8a1ec3-769f-4cfb-90b0-d60738410993",
   "metadata": {},
   "outputs": [],
   "source": [
    "SMILE_floats_D3 = idx3.index.wmo #indexes into the column, wmo or float ID's\n",
    "SMILE_floats_ND3 = SMILE_floats_D3.drop_duplicates() #gets rid of duplicates\n",
    "SMILE_floats_ND3 #Tells you what these floats are\n",
    "len(SMILE_floats_ND3)"
   ]
  },
  {
   "cell_type": "code",
   "execution_count": null,
   "id": "7215e759-b5b9-4c2d-936a-898dd3970074",
   "metadata": {},
   "outputs": [],
   "source": [
    "SMILE_floats_D4 = idx4.index.wmo #indexes into the column, wmo or float ID's\n",
    "SMILE_floats_ND4 = SMILE_floats_D4.drop_duplicates() #gets rid of duplicates\n",
    "SMILE_floats_ND4 #Tells you what these floats are"
   ]
  },
  {
   "cell_type": "code",
   "execution_count": null,
   "id": "4bf1a05d-46de-441d-bcd6-06b520ec4a26",
   "metadata": {},
   "outputs": [],
   "source": [
    "len(SMILE_floats_ND4) #Tells you how many floats matched!"
   ]
  },
  {
   "cell_type": "code",
   "execution_count": null,
   "id": "9d795725-3023-477e-9252-3007856beca8",
   "metadata": {},
   "outputs": [],
   "source": [
    "#Region 2 - Argo floats that intersect EM-APEX SMILE experiment across all time & limited time\n",
    "idx5 = ArgoIndexFetcher(src='erddap').region([-146.322, -145, 28.0, 30.6, '1999-01-01', '2023-01-01']).load()\n",
    "idx6 = ArgoIndexFetcher(src='erddap').region([-146.322, -145, 28.0, 30.6, '2017-01-01', '2017-12-31']).load() #MOST INTERESTING"
   ]
  },
  {
   "cell_type": "code",
   "execution_count": null,
   "id": "ec412df2-a52a-40c4-a728-9b038d9858fa",
   "metadata": {},
   "outputs": [],
   "source": [
    "SMILE_floats_D5 = idx5.index.wmo #indexes into the column, wmo or float ID's\n",
    "SMILE_floats_ND5 = SMILE_floats_D5.drop_duplicates() #gets rid of duplicates\n",
    "SMILE_floats_ND5 #Tells you what these floats are\n",
    "len(SMILE_floats_ND5)"
   ]
  },
  {
   "cell_type": "code",
   "execution_count": null,
   "id": "7264f048-323c-4726-b9f0-5bfccecb5161",
   "metadata": {},
   "outputs": [],
   "source": [
    "SMILE_floats_D6 = idx6.index.wmo #indexes into the column, wmo or float ID's\n",
    "SMILE_floats_ND6 = SMILE_floats_D6.drop_duplicates() #gets rid of duplicates\n",
    "SMILE_floats_ND6 #Tells you what these floats are"
   ]
  },
  {
   "cell_type": "code",
   "execution_count": null,
   "id": "88f3aa0c-97a3-41b2-a679-1d437719c13c",
   "metadata": {},
   "outputs": [],
   "source": [
    "len(SMILE_floats_ND6) #Tells you how many floats matched!"
   ]
  },
  {
   "cell_type": "code",
   "execution_count": null,
   "id": "504f383d-cff6-4301-b044-8ea136ebf96d",
   "metadata": {},
   "outputs": [],
   "source": [
    "#Region 3 - Argo floats that intersect EM-APEX SMILE experiment across all time & limited time\n",
    "34.0, 35.469333, -140.5, -139.39713\n",
    "idx7 = ArgoIndexFetcher(src='erddap').region([-140.5, -139.39713, 34.0, 35.469333, '1999-01-01', '2023-01-01']).load()\n",
    "idx8 = ArgoIndexFetcher(src='erddap').region([-140.5, -139.39713, 34.0, 35.469333, '2017-01-01', '2017-12-31']).load() #MOST INTERESTING"
   ]
  },
  {
   "cell_type": "code",
   "execution_count": null,
   "id": "48fe1165-52b6-4b4b-b108-6616d3589b77",
   "metadata": {},
   "outputs": [],
   "source": [
    "SMILE_floats_D7 = idx7.index.wmo #indexes into the column, wmo or float ID's\n",
    "SMILE_floats_ND7 = SMILE_floats_D7.drop_duplicates() #gets rid of duplicates\n",
    "SMILE_floats_ND7 #Tells you what these floats are\n",
    "len(SMILE_floats_ND7)"
   ]
  },
  {
   "cell_type": "code",
   "execution_count": null,
   "id": "0ecb0123-6e9b-4108-83fe-171902adc5a2",
   "metadata": {},
   "outputs": [],
   "source": [
    "SMILE_floats_D8 = idx8.index.wmo #indexes into the column, wmo or float ID's\n",
    "SMILE_floats_ND8 = SMILE_floats_D8.drop_duplicates() #gets rid of duplicates\n",
    "SMILE_floats_ND8 #Tells you what these floats are"
   ]
  },
  {
   "cell_type": "code",
   "execution_count": null,
   "id": "fc872e10-71df-4983-90d2-2cc3e5158da2",
   "metadata": {},
   "outputs": [],
   "source": [
    "len(SMILE_floats_ND8)"
   ]
  },
  {
   "cell_type": "markdown",
   "id": "69efccc9-5d5e-41f4-ad88-58e143641a7e",
   "metadata": {},
   "source": [
    "#### Argo Float Matches!"
   ]
  },
  {
   "cell_type": "markdown",
   "id": "0795a7fc-37fb-4640-930c-01523f774bda",
   "metadata": {},
   "source": [
    "After going through this indexing in the IndexFetcher, I was able to narrow down Argo float matches to Regions 1 and 2 in EM-APEX SMILE data that shared geographical space and time (2017):\n",
    "\n",
    "Region #1:\n",
    "5903608, 5904977, 4902947 (2017 isn't in geogrpahical bounds), 4902935 (2017 isn't in geographcial bounds), 5903603 (2017 isn't in geographical bounds)\n",
    "\n",
    "Region #2:\n",
    "5904128, 4902149\n",
    "\n",
    "Region #3:\n",
    "4900816, 4902251\n",
    "\n",
    "And now we can move on to the graphs of each of these Argo floats!"
   ]
  },
  {
   "cell_type": "markdown",
   "id": "8014a805-4222-407b-8dcb-9bc620c165e1",
   "metadata": {},
   "source": [
    "### Option 3 - Downloading Argo Files onto your computer"
   ]
  },
  {
   "cell_type": "markdown",
   "id": "1c08c9cf-2683-4542-81e4-1c8cdb41d0e7",
   "metadata": {},
   "source": [
    "You can also do this if you know what floats you want to focus on, but considering I had a lot of data to work with I did not use this method as much. The Argo Online School resources I mentioned in the .README file have more information about these methods and how Argo data files are organized if you want to try this method out. Good luck, and now on to the graphs!"
   ]
  }
 ],
 "metadata": {
  "kernelspec": {
   "display_name": "Python 3 (ipykernel)",
   "language": "python",
   "name": "python3"
  },
  "language_info": {
   "codemirror_mode": {
    "name": "ipython",
    "version": 3
   },
   "file_extension": ".py",
   "mimetype": "text/x-python",
   "name": "python",
   "nbconvert_exporter": "python",
   "pygments_lexer": "ipython3",
   "version": "3.9.16"
  }
 },
 "nbformat": 4,
 "nbformat_minor": 5
}
