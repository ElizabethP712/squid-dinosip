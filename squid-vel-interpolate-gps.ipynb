{
 "cells": [
  {
   "cell_type": "markdown",
   "id": "e33fe1eb-d2b7-401e-8106-88a30f9df733",
   "metadata": {},
   "source": [
    "# SQUID SMILE interpolation of GPS location data\n",
    "\n",
    "Emilio, 8/1/2023\n",
    "\n",
    "Apply GPS latitude and longitude data to the `vel` data file based on interpolation on timestamps."
   ]
  },
  {
   "cell_type": "code",
   "execution_count": 1,
   "id": "781c6445-8281-4da1-b1e8-1100e8404416",
   "metadata": {},
   "outputs": [],
   "source": [
    "from pathlib import Path\n",
    "from datetime import datetime\n",
    "import pandas as pd"
   ]
  },
  {
   "cell_type": "code",
   "execution_count": 2,
   "id": "a71b12db-70fb-4496-b8d8-50e046e2682c",
   "metadata": {},
   "outputs": [],
   "source": [
    "base_dpth = Path(\"path_to_parquet_files_directory\")"
   ]
  },
  {
   "cell_type": "code",
   "execution_count": 3,
   "id": "4fa58aac-badf-442d-bda2-77d4c6554c19",
   "metadata": {},
   "outputs": [],
   "source": [
    "gps_parquet_path = \"gps_points_allexperiments.parquet\"\n",
    "ctd_parquet_path = \"ctd_points_allexperiments.parquet\"\n",
    "vel_parquet_path = \"vel_points_allexperiments.parquet\""
   ]
  },
  {
   "cell_type": "markdown",
   "id": "c35d12c4-e2a9-4e39-b7e8-2eab890c17cc",
   "metadata": {},
   "source": [
    "## Read the data (parquet files)\n",
    "\n",
    "For the GPS file, let's load only the columsn we're interested in. That will make processing faster, as it'll consume less memory"
   ]
  },
  {
   "cell_type": "code",
   "execution_count": 4,
   "id": "17e798ee-e00f-4b2c-b59a-5fb0153b113a",
   "metadata": {},
   "outputs": [],
   "source": [
    "gps_df = pd.read_parquet(base_dpth / gps_parquet_path)[['UXT_DT', 'LAT', 'LON', 'deployment', 'experiment']]\n",
    "vel_df = pd.read_parquet(base_dpth / vel_parquet_path)"
   ]
  },
  {
   "cell_type": "markdown",
   "id": "729ddfe1-b24a-4266-8e75-965de1a5f315",
   "metadata": {},
   "source": [
    "I find it helpful to examine the DataFrames a bit, for reference"
   ]
  },
  {
   "cell_type": "code",
   "execution_count": 5,
   "id": "8f09ea52-66d5-463e-ad4b-8132563f5849",
   "metadata": {},
   "outputs": [
    {
     "data": {
      "text/plain": [
       "(591822, 2619890)"
      ]
     },
     "execution_count": 5,
     "metadata": {},
     "output_type": "execute_result"
    }
   ],
   "source": [
    "len(gps_df), len(vel_df)"
   ]
  },
  {
   "cell_type": "code",
   "execution_count": 6,
   "id": "2ecb0525-f546-49b1-a160-d9d4dfa2b8c1",
   "metadata": {},
   "outputs": [
    {
     "data": {
      "text/plain": [
       "Index(['UXT_DT', 'LAT', 'LON', 'deployment', 'experiment'], dtype='object')"
      ]
     },
     "execution_count": 6,
     "metadata": {},
     "output_type": "execute_result"
    }
   ],
   "source": [
    "gps_df.columns"
   ]
  },
  {
   "cell_type": "code",
   "execution_count": 7,
   "id": "8b0ffc34-2ca6-48d9-ba43-3b1029dc8c44",
   "metadata": {},
   "outputs": [
    {
     "data": {
      "text/plain": [
       "Index(['deployment', 'experiment', 'dive_nbr', 'P', 'T', 'S', 'u1', 'v1',\n",
       "       'verr1', 'u2', 'v2', 'verr2', 'W', 'e1mean', 'e2mean', 'piston', 'uxt',\n",
       "       'UXT_DT'],\n",
       "      dtype='object')"
      ]
     },
     "execution_count": 7,
     "metadata": {},
     "output_type": "execute_result"
    }
   ],
   "source": [
    "vel_df.columns"
   ]
  },
  {
   "cell_type": "markdown",
   "id": "cc549458-ca69-4e57-a7a4-26b4ddb4ce0f",
   "metadata": {},
   "source": [
    "## Merge the two DataFrames\n",
    "\n",
    "This merging step will include columns and rows from both DataFrames. It'll have lots of empty cells (\"NaN\", Not-A-Number). Before merging, we filter the two DataFrames to retain only SMILE records."
   ]
  },
  {
   "cell_type": "code",
   "execution_count": 8,
   "id": "657f6217-fa5a-43a7-8e4f-d30da705e463",
   "metadata": {},
   "outputs": [],
   "source": [
    "vel_gps_df = (\n",
    "    gps_df[gps_df.experiment == 'SMILE']\n",
    "    .merge(vel_df[vel_df.experiment == 'SMILE'], how='outer')\n",
    "    .set_index('UXT_DT')\n",
    ")"
   ]
  },
  {
   "cell_type": "code",
   "execution_count": 9,
   "id": "ceb7ad63-022f-42b3-b56c-73868c21ea2d",
   "metadata": {},
   "outputs": [
    {
     "data": {
      "text/plain": [
       "631603"
      ]
     },
     "execution_count": 9,
     "metadata": {},
     "output_type": "execute_result"
    }
   ],
   "source": [
    "len(vel_gps_df)"
   ]
  },
  {
   "cell_type": "code",
   "execution_count": 10,
   "id": "4c372ff1-254c-439a-80e0-05502c165241",
   "metadata": {},
   "outputs": [
    {
     "data": {
      "text/html": [
       "<div>\n",
       "<style scoped>\n",
       "    .dataframe tbody tr th:only-of-type {\n",
       "        vertical-align: middle;\n",
       "    }\n",
       "\n",
       "    .dataframe tbody tr th {\n",
       "        vertical-align: top;\n",
       "    }\n",
       "\n",
       "    .dataframe thead th {\n",
       "        text-align: right;\n",
       "    }\n",
       "</style>\n",
       "<table border=\"1\" class=\"dataframe\">\n",
       "  <thead>\n",
       "    <tr style=\"text-align: right;\">\n",
       "      <th></th>\n",
       "      <th>LAT</th>\n",
       "      <th>LON</th>\n",
       "      <th>deployment</th>\n",
       "      <th>experiment</th>\n",
       "      <th>dive_nbr</th>\n",
       "      <th>P</th>\n",
       "      <th>T</th>\n",
       "      <th>S</th>\n",
       "      <th>u1</th>\n",
       "      <th>v1</th>\n",
       "      <th>verr1</th>\n",
       "      <th>u2</th>\n",
       "      <th>v2</th>\n",
       "      <th>verr2</th>\n",
       "      <th>W</th>\n",
       "      <th>e1mean</th>\n",
       "      <th>e2mean</th>\n",
       "      <th>piston</th>\n",
       "      <th>uxt</th>\n",
       "    </tr>\n",
       "    <tr>\n",
       "      <th>UXT_DT</th>\n",
       "      <th></th>\n",
       "      <th></th>\n",
       "      <th></th>\n",
       "      <th></th>\n",
       "      <th></th>\n",
       "      <th></th>\n",
       "      <th></th>\n",
       "      <th></th>\n",
       "      <th></th>\n",
       "      <th></th>\n",
       "      <th></th>\n",
       "      <th></th>\n",
       "      <th></th>\n",
       "      <th></th>\n",
       "      <th></th>\n",
       "      <th></th>\n",
       "      <th></th>\n",
       "      <th></th>\n",
       "      <th></th>\n",
       "    </tr>\n",
       "  </thead>\n",
       "  <tbody>\n",
       "    <tr>\n",
       "      <th>2017-03-08 05:53:59+00:00</th>\n",
       "      <td>26.238247</td>\n",
       "      <td>-146.275868</td>\n",
       "      <td>4968s1</td>\n",
       "      <td>SMILE</td>\n",
       "      <td>NaN</td>\n",
       "      <td>NaN</td>\n",
       "      <td>NaN</td>\n",
       "      <td>NaN</td>\n",
       "      <td>NaN</td>\n",
       "      <td>NaN</td>\n",
       "      <td>NaN</td>\n",
       "      <td>NaN</td>\n",
       "      <td>NaN</td>\n",
       "      <td>NaN</td>\n",
       "      <td>NaN</td>\n",
       "      <td>NaN</td>\n",
       "      <td>NaN</td>\n",
       "      <td>NaN</td>\n",
       "      <td>NaN</td>\n",
       "    </tr>\n",
       "    <tr>\n",
       "      <th>2017-03-08 05:53:59+00:00</th>\n",
       "      <td>26.238247</td>\n",
       "      <td>-146.275868</td>\n",
       "      <td>4968s1</td>\n",
       "      <td>SMILE</td>\n",
       "      <td>NaN</td>\n",
       "      <td>NaN</td>\n",
       "      <td>NaN</td>\n",
       "      <td>NaN</td>\n",
       "      <td>NaN</td>\n",
       "      <td>NaN</td>\n",
       "      <td>NaN</td>\n",
       "      <td>NaN</td>\n",
       "      <td>NaN</td>\n",
       "      <td>NaN</td>\n",
       "      <td>NaN</td>\n",
       "      <td>NaN</td>\n",
       "      <td>NaN</td>\n",
       "      <td>NaN</td>\n",
       "      <td>NaN</td>\n",
       "    </tr>\n",
       "    <tr>\n",
       "      <th>2017-03-08 05:54:00+00:00</th>\n",
       "      <td>26.238247</td>\n",
       "      <td>-146.275868</td>\n",
       "      <td>4968s1</td>\n",
       "      <td>SMILE</td>\n",
       "      <td>NaN</td>\n",
       "      <td>NaN</td>\n",
       "      <td>NaN</td>\n",
       "      <td>NaN</td>\n",
       "      <td>NaN</td>\n",
       "      <td>NaN</td>\n",
       "      <td>NaN</td>\n",
       "      <td>NaN</td>\n",
       "      <td>NaN</td>\n",
       "      <td>NaN</td>\n",
       "      <td>NaN</td>\n",
       "      <td>NaN</td>\n",
       "      <td>NaN</td>\n",
       "      <td>NaN</td>\n",
       "      <td>NaN</td>\n",
       "    </tr>\n",
       "    <tr>\n",
       "      <th>2017-03-08 05:54:00+00:00</th>\n",
       "      <td>26.238247</td>\n",
       "      <td>-146.275868</td>\n",
       "      <td>4968s1</td>\n",
       "      <td>SMILE</td>\n",
       "      <td>NaN</td>\n",
       "      <td>NaN</td>\n",
       "      <td>NaN</td>\n",
       "      <td>NaN</td>\n",
       "      <td>NaN</td>\n",
       "      <td>NaN</td>\n",
       "      <td>NaN</td>\n",
       "      <td>NaN</td>\n",
       "      <td>NaN</td>\n",
       "      <td>NaN</td>\n",
       "      <td>NaN</td>\n",
       "      <td>NaN</td>\n",
       "      <td>NaN</td>\n",
       "      <td>NaN</td>\n",
       "      <td>NaN</td>\n",
       "    </tr>\n",
       "    <tr>\n",
       "      <th>2017-03-08 05:54:01+00:00</th>\n",
       "      <td>26.238247</td>\n",
       "      <td>-146.275868</td>\n",
       "      <td>4968s1</td>\n",
       "      <td>SMILE</td>\n",
       "      <td>NaN</td>\n",
       "      <td>NaN</td>\n",
       "      <td>NaN</td>\n",
       "      <td>NaN</td>\n",
       "      <td>NaN</td>\n",
       "      <td>NaN</td>\n",
       "      <td>NaN</td>\n",
       "      <td>NaN</td>\n",
       "      <td>NaN</td>\n",
       "      <td>NaN</td>\n",
       "      <td>NaN</td>\n",
       "      <td>NaN</td>\n",
       "      <td>NaN</td>\n",
       "      <td>NaN</td>\n",
       "      <td>NaN</td>\n",
       "    </tr>\n",
       "  </tbody>\n",
       "</table>\n",
       "</div>"
      ],
      "text/plain": [
       "                                 LAT         LON deployment experiment  \\\n",
       "UXT_DT                                                                   \n",
       "2017-03-08 05:53:59+00:00  26.238247 -146.275868     4968s1      SMILE   \n",
       "2017-03-08 05:53:59+00:00  26.238247 -146.275868     4968s1      SMILE   \n",
       "2017-03-08 05:54:00+00:00  26.238247 -146.275868     4968s1      SMILE   \n",
       "2017-03-08 05:54:00+00:00  26.238247 -146.275868     4968s1      SMILE   \n",
       "2017-03-08 05:54:01+00:00  26.238247 -146.275868     4968s1      SMILE   \n",
       "\n",
       "                          dive_nbr   P   T   S  u1  v1  verr1  u2  v2  verr2  \\\n",
       "UXT_DT                                                                         \n",
       "2017-03-08 05:53:59+00:00      NaN NaN NaN NaN NaN NaN    NaN NaN NaN    NaN   \n",
       "2017-03-08 05:53:59+00:00      NaN NaN NaN NaN NaN NaN    NaN NaN NaN    NaN   \n",
       "2017-03-08 05:54:00+00:00      NaN NaN NaN NaN NaN NaN    NaN NaN NaN    NaN   \n",
       "2017-03-08 05:54:00+00:00      NaN NaN NaN NaN NaN NaN    NaN NaN NaN    NaN   \n",
       "2017-03-08 05:54:01+00:00      NaN NaN NaN NaN NaN NaN    NaN NaN NaN    NaN   \n",
       "\n",
       "                            W  e1mean  e2mean  piston  uxt  \n",
       "UXT_DT                                                      \n",
       "2017-03-08 05:53:59+00:00 NaN     NaN     NaN     NaN  NaN  \n",
       "2017-03-08 05:53:59+00:00 NaN     NaN     NaN     NaN  NaN  \n",
       "2017-03-08 05:54:00+00:00 NaN     NaN     NaN     NaN  NaN  \n",
       "2017-03-08 05:54:00+00:00 NaN     NaN     NaN     NaN  NaN  \n",
       "2017-03-08 05:54:01+00:00 NaN     NaN     NaN     NaN  NaN  "
      ]
     },
     "execution_count": 10,
     "metadata": {},
     "output_type": "execute_result"
    }
   ],
   "source": [
    "vel_gps_df.head()"
   ]
  },
  {
   "cell_type": "markdown",
   "id": "550d7258-2103-4b06-9c48-24a11edd1b1f",
   "metadata": {},
   "source": [
    "## Interpolate latitude and longitude values on the timestamp values\n",
    "\n",
    "Every timestamp from the `vel` DataFrame will be assigned a latitude and longitude value based on interpolation of latitudes and longitudes over the GPS timestamps.\n",
    "\n",
    "A different interpolation method could be used, but linear seems good enough for our purposes."
   ]
  },
  {
   "cell_type": "code",
   "execution_count": 11,
   "id": "a5cbb251-a448-4610-90e3-9b8b4bfabfe9",
   "metadata": {},
   "outputs": [],
   "source": [
    "vel_gps_df = vel_gps_df.interpolate(method='slinear').dropna(subset=\"v1\")"
   ]
  },
  {
   "cell_type": "code",
   "execution_count": 12,
   "id": "b45517dd-c50e-4493-ae6c-64215ecf4859",
   "metadata": {},
   "outputs": [
    {
     "data": {
      "text/plain": [
       "340277"
      ]
     },
     "execution_count": 12,
     "metadata": {},
     "output_type": "execute_result"
    }
   ],
   "source": [
    "len(vel_gps_df)"
   ]
  },
  {
   "cell_type": "code",
   "execution_count": 13,
   "id": "af812b66-0903-42bc-9913-5d5ab210be82",
   "metadata": {},
   "outputs": [
    {
     "data": {
      "text/html": [
       "<div>\n",
       "<style scoped>\n",
       "    .dataframe tbody tr th:only-of-type {\n",
       "        vertical-align: middle;\n",
       "    }\n",
       "\n",
       "    .dataframe tbody tr th {\n",
       "        vertical-align: top;\n",
       "    }\n",
       "\n",
       "    .dataframe thead th {\n",
       "        text-align: right;\n",
       "    }\n",
       "</style>\n",
       "<table border=\"1\" class=\"dataframe\">\n",
       "  <thead>\n",
       "    <tr style=\"text-align: right;\">\n",
       "      <th></th>\n",
       "      <th>LAT</th>\n",
       "      <th>LON</th>\n",
       "      <th>deployment</th>\n",
       "      <th>experiment</th>\n",
       "      <th>dive_nbr</th>\n",
       "      <th>P</th>\n",
       "      <th>T</th>\n",
       "      <th>S</th>\n",
       "      <th>u1</th>\n",
       "      <th>v1</th>\n",
       "      <th>verr1</th>\n",
       "      <th>u2</th>\n",
       "      <th>v2</th>\n",
       "      <th>verr2</th>\n",
       "      <th>W</th>\n",
       "      <th>e1mean</th>\n",
       "      <th>e2mean</th>\n",
       "      <th>piston</th>\n",
       "      <th>uxt</th>\n",
       "    </tr>\n",
       "    <tr>\n",
       "      <th>UXT_DT</th>\n",
       "      <th></th>\n",
       "      <th></th>\n",
       "      <th></th>\n",
       "      <th></th>\n",
       "      <th></th>\n",
       "      <th></th>\n",
       "      <th></th>\n",
       "      <th></th>\n",
       "      <th></th>\n",
       "      <th></th>\n",
       "      <th></th>\n",
       "      <th></th>\n",
       "      <th></th>\n",
       "      <th></th>\n",
       "      <th></th>\n",
       "      <th></th>\n",
       "      <th></th>\n",
       "      <th></th>\n",
       "      <th></th>\n",
       "    </tr>\n",
       "  </thead>\n",
       "  <tbody>\n",
       "    <tr>\n",
       "      <th>2017-03-08 04:51:13+00:00</th>\n",
       "      <td>26.236990</td>\n",
       "      <td>-146.269022</td>\n",
       "      <td>4968s1</td>\n",
       "      <td>SMILE</td>\n",
       "      <td>0001</td>\n",
       "      <td>38.4</td>\n",
       "      <td>20.394</td>\n",
       "      <td>35.209</td>\n",
       "      <td>0.237</td>\n",
       "      <td>-0.158</td>\n",
       "      <td>0.008</td>\n",
       "      <td>0.219</td>\n",
       "      <td>-0.115</td>\n",
       "      <td>0.007</td>\n",
       "      <td>0.159</td>\n",
       "      <td>1360.9</td>\n",
       "      <td>-1049.4</td>\n",
       "      <td>9.0</td>\n",
       "      <td>1.488949e+09</td>\n",
       "    </tr>\n",
       "    <tr>\n",
       "      <th>2017-03-08 04:51:40+00:00</th>\n",
       "      <td>26.237970</td>\n",
       "      <td>-146.269244</td>\n",
       "      <td>4968s1</td>\n",
       "      <td>SMILE</td>\n",
       "      <td>0001</td>\n",
       "      <td>42.6</td>\n",
       "      <td>20.355</td>\n",
       "      <td>35.205</td>\n",
       "      <td>0.207</td>\n",
       "      <td>-0.157</td>\n",
       "      <td>0.008</td>\n",
       "      <td>0.202</td>\n",
       "      <td>-0.122</td>\n",
       "      <td>0.007</td>\n",
       "      <td>0.154</td>\n",
       "      <td>1360.3</td>\n",
       "      <td>-1049.3</td>\n",
       "      <td>9.0</td>\n",
       "      <td>1.488949e+09</td>\n",
       "    </tr>\n",
       "    <tr>\n",
       "      <th>2017-03-08 04:52:05+00:00</th>\n",
       "      <td>26.238877</td>\n",
       "      <td>-146.269449</td>\n",
       "      <td>4968s1</td>\n",
       "      <td>SMILE</td>\n",
       "      <td>0001</td>\n",
       "      <td>46.4</td>\n",
       "      <td>20.330</td>\n",
       "      <td>35.205</td>\n",
       "      <td>0.176</td>\n",
       "      <td>-0.150</td>\n",
       "      <td>0.007</td>\n",
       "      <td>0.178</td>\n",
       "      <td>-0.122</td>\n",
       "      <td>0.007</td>\n",
       "      <td>0.154</td>\n",
       "      <td>1359.7</td>\n",
       "      <td>-1049.3</td>\n",
       "      <td>9.0</td>\n",
       "      <td>1.488949e+09</td>\n",
       "    </tr>\n",
       "    <tr>\n",
       "      <th>2017-03-08 04:52:30+00:00</th>\n",
       "      <td>26.239784</td>\n",
       "      <td>-146.269654</td>\n",
       "      <td>4968s1</td>\n",
       "      <td>SMILE</td>\n",
       "      <td>0001</td>\n",
       "      <td>50.2</td>\n",
       "      <td>20.317</td>\n",
       "      <td>35.204</td>\n",
       "      <td>0.175</td>\n",
       "      <td>-0.148</td>\n",
       "      <td>0.005</td>\n",
       "      <td>0.165</td>\n",
       "      <td>-0.119</td>\n",
       "      <td>0.005</td>\n",
       "      <td>0.154</td>\n",
       "      <td>1359.5</td>\n",
       "      <td>-1049.0</td>\n",
       "      <td>9.0</td>\n",
       "      <td>1.488949e+09</td>\n",
       "    </tr>\n",
       "    <tr>\n",
       "      <th>2017-03-08 04:52:55+00:00</th>\n",
       "      <td>26.240218</td>\n",
       "      <td>-146.269709</td>\n",
       "      <td>4968s1</td>\n",
       "      <td>SMILE</td>\n",
       "      <td>0001</td>\n",
       "      <td>54.1</td>\n",
       "      <td>20.300</td>\n",
       "      <td>35.203</td>\n",
       "      <td>0.160</td>\n",
       "      <td>-0.152</td>\n",
       "      <td>0.008</td>\n",
       "      <td>0.154</td>\n",
       "      <td>-0.123</td>\n",
       "      <td>0.007</td>\n",
       "      <td>0.153</td>\n",
       "      <td>1359.4</td>\n",
       "      <td>-1048.4</td>\n",
       "      <td>9.0</td>\n",
       "      <td>1.488949e+09</td>\n",
       "    </tr>\n",
       "  </tbody>\n",
       "</table>\n",
       "</div>"
      ],
      "text/plain": [
       "                                 LAT         LON deployment experiment  \\\n",
       "UXT_DT                                                                   \n",
       "2017-03-08 04:51:13+00:00  26.236990 -146.269022     4968s1      SMILE   \n",
       "2017-03-08 04:51:40+00:00  26.237970 -146.269244     4968s1      SMILE   \n",
       "2017-03-08 04:52:05+00:00  26.238877 -146.269449     4968s1      SMILE   \n",
       "2017-03-08 04:52:30+00:00  26.239784 -146.269654     4968s1      SMILE   \n",
       "2017-03-08 04:52:55+00:00  26.240218 -146.269709     4968s1      SMILE   \n",
       "\n",
       "                          dive_nbr     P       T       S     u1     v1  verr1  \\\n",
       "UXT_DT                                                                          \n",
       "2017-03-08 04:51:13+00:00     0001  38.4  20.394  35.209  0.237 -0.158  0.008   \n",
       "2017-03-08 04:51:40+00:00     0001  42.6  20.355  35.205  0.207 -0.157  0.008   \n",
       "2017-03-08 04:52:05+00:00     0001  46.4  20.330  35.205  0.176 -0.150  0.007   \n",
       "2017-03-08 04:52:30+00:00     0001  50.2  20.317  35.204  0.175 -0.148  0.005   \n",
       "2017-03-08 04:52:55+00:00     0001  54.1  20.300  35.203  0.160 -0.152  0.008   \n",
       "\n",
       "                              u2     v2  verr2      W  e1mean  e2mean  piston  \\\n",
       "UXT_DT                                                                          \n",
       "2017-03-08 04:51:13+00:00  0.219 -0.115  0.007  0.159  1360.9 -1049.4     9.0   \n",
       "2017-03-08 04:51:40+00:00  0.202 -0.122  0.007  0.154  1360.3 -1049.3     9.0   \n",
       "2017-03-08 04:52:05+00:00  0.178 -0.122  0.007  0.154  1359.7 -1049.3     9.0   \n",
       "2017-03-08 04:52:30+00:00  0.165 -0.119  0.005  0.154  1359.5 -1049.0     9.0   \n",
       "2017-03-08 04:52:55+00:00  0.154 -0.123  0.007  0.153  1359.4 -1048.4     9.0   \n",
       "\n",
       "                                    uxt  \n",
       "UXT_DT                                   \n",
       "2017-03-08 04:51:13+00:00  1.488949e+09  \n",
       "2017-03-08 04:51:40+00:00  1.488949e+09  \n",
       "2017-03-08 04:52:05+00:00  1.488949e+09  \n",
       "2017-03-08 04:52:30+00:00  1.488949e+09  \n",
       "2017-03-08 04:52:55+00:00  1.488949e+09  "
      ]
     },
     "execution_count": 13,
     "metadata": {},
     "output_type": "execute_result"
    }
   ],
   "source": [
    "vel_gps_df.head()"
   ]
  },
  {
   "cell_type": "markdown",
   "id": "a4b8687a-66bb-4504-b570-1d69a2d539ff",
   "metadata": {},
   "source": [
    "Now let's export it to a parquet file"
   ]
  },
  {
   "cell_type": "code",
   "execution_count": 15,
   "id": "d0665c4f-bc9d-4f67-bb6f-1fadb7516cf2",
   "metadata": {},
   "outputs": [],
   "source": [
    "vel_gps_df.to_parquet(base_dpth / 'vel_gps_interpolated.parquet')"
   ]
  },
  {
   "cell_type": "markdown",
   "id": "d3a54ae0-e94d-45da-9cf0-f08434674a03",
   "metadata": {},
   "source": [
    "## Let's look at the issue of data from 2019\n",
    "\n",
    "We can examine this via a histogram. `uxt` is a numeric timestmap column (seconds since 1970-01-01). As we can see, A small fraction of the data have bad timestamps, from 2019. It'd be better to go back to earlier steps and filter it out based on, say, `gps_df.UXT_DT > '2018-01-01'` and `vel_df.UXT_DT > '2018-01-01'"
   ]
  },
  {
   "cell_type": "code",
   "execution_count": 16,
   "id": "265982c4-4dde-4d59-b487-5ad714a024e1",
   "metadata": {},
   "outputs": [
    {
     "data": {
      "text/plain": [
       "(Timestamp('2017-03-07 20:18:59+0000', tz='UTC'),\n",
       " Timestamp('2019-08-08 00:04:00+0000', tz='UTC'))"
      ]
     },
     "execution_count": 16,
     "metadata": {},
     "output_type": "execute_result"
    }
   ],
   "source": [
    "vel_gps_df.index.min(), vel_gps_df.index.max()"
   ]
  },
  {
   "cell_type": "code",
   "execution_count": 17,
   "id": "c78f2a9b-41ff-4fed-abc6-1dfc277c737f",
   "metadata": {},
   "outputs": [
    {
     "data": {
      "image/png": "[encoded data removed]",
      "text/plain": [
       "<Figure size 640x480 with 1 Axes>"
      ]
     },
     "metadata": {},
     "output_type": "display_data"
    }
   ],
   "source": [
    "vel_gps_df.uxt.hist();"
   ]
  },
  {
   "cell_type": "code",
   "execution_count": null,
   "id": "5e57785a-c2a4-42b7-9f05-249e171daf97",
   "metadata": {},
   "outputs": [],
   "source": []
  }
 ],
 "metadata": {
  "kernelspec": {
   "display_name": "Python [conda env:trocas_processing]",
   "language": "python",
   "name": "conda-env-trocas_processing-py"
  },
  "language_info": {
   "codemirror_mode": {
    "name": "ipython",
    "version": 3
   },
   "file_extension": ".py",
   "mimetype": "text/x-python",
   "name": "python",
   "nbconvert_exporter": "python",
   "pygments_lexer": "ipython3",
   "version": "3.9.13"
  }
 },
 "nbformat": 4,
 "nbformat_minor": 5
}
